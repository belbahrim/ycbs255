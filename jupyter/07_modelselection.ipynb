{
 "cells": [
  {
   "cell_type": "markdown",
   "metadata": {},
   "source": [
    "# Model Selection\n",
    "Model selection is one of the important subjects in statistical modeling. We have the possibility of including as many as features, all of them would not improve the model accuracy. It is important to know which features are improving the model. There are two different approaches.\n",
    "\n",
    "- Model selection by fitting a model and using a statistical measure such as AIC and BIC.\n",
    "    - Forward stepwise seleciton\n",
    "    - Backward stepwise selection\n",
    "\n",
    "- Using a shrinkage method \n",
    "\n",
    "\n",
    "\n",
    "\n",
    "\n",
    "\n",
    "\n",
    "\n",
    "\n",
    "\n"
   ]
  },
  {
   "cell_type": "markdown",
   "metadata": {},
   "source": [
    "# Load file\n",
    "Commonly two libraries are used to load a csv files.\n",
    "- numpy function `np.loadtext` and `np.genfromtext ` \n",
    "- pandas function `pd.read_csv`\n",
    "\n",
    "Here we prefer using pandas"
   ]
  },
  {
   "cell_type": "code",
   "execution_count": null,
   "metadata": {
    "scrolled": true
   },
   "outputs": [],
   "source": [
    "import pandas as pd\n",
    "path='data/'\n",
    "filename = path+'Credit.csv'\n",
    "credit = pd.read_csv(filename)"
   ]
  },
  {
   "cell_type": "code",
   "execution_count": null,
   "metadata": {},
   "outputs": [],
   "source": [
    "credit.head()\n"
   ]
  },
  {
   "cell_type": "code",
   "execution_count": null,
   "metadata": {},
   "outputs": [],
   "source": [
    "credit = credit[['Balance','Income', 'Limit', 'Rating', 'Cards', 'Age', 'Education']]"
   ]
  },
  {
   "cell_type": "code",
   "execution_count": null,
   "metadata": {},
   "outputs": [],
   "source": [
    "credit"
   ]
  },
  {
   "cell_type": "code",
   "execution_count": null,
   "metadata": {
    "scrolled": true
   },
   "outputs": [],
   "source": [
    "from pandas.plotting import scatter_matrix\n",
    "%matplotlib inline\n",
    "scatter_matrix(credit, alpha=0.2);"
   ]
  },
  {
   "cell_type": "code",
   "execution_count": null,
   "metadata": {},
   "outputs": [],
   "source": [
    "# Manual Forward stepwise selection only on 'Income' 'Limit' and 'Rating'\n",
    "\n",
    "# model size = 1 try models with only one dimension first. Choose the best attribute.\n",
    "#Go to the next step while keeping the best variable in the model.\n",
    "\n",
    "from sklearn.linear_model import LinearRegression\n",
    "y = credit['Balance'].values\n",
    "X = credit[['Income']].values\n",
    "lr = LinearRegression()\n",
    "lr.fit(X,y)\n",
    "score1 = lr.score(X,y)\n",
    "\n",
    "\n",
    "y = credit['Balance'].values\n",
    "X = credit[['Limit']].values\n",
    "lr = LinearRegression()\n",
    "lr.fit(X,y)\n",
    "score2 = lr.score(X,y)\n",
    "\n",
    "y = credit['Balance'].values\n",
    "X = credit[['Rating']].values\n",
    "lr = LinearRegression()\n",
    "lr.fit(X,y)\n",
    "score3 = lr.score(X,y)\n",
    "\n",
    "# score3>score2>score1 so Rating enters\n",
    "# model size = 2 \n",
    "\n",
    "y = credit['Balance'].values\n",
    "X = credit[['Rating', 'Income']].values\n",
    "lr = LinearRegression()\n",
    "lr.fit(X,y)\n",
    "score31 = lr.score(X,y)\n",
    "\n",
    "y = credit['Balance'].values\n",
    "X = credit[['Rating', 'Limit']].values\n",
    "lr = LinearRegression()\n",
    "lr.fit(X,y)\n",
    "score32 = lr.score(X,y)\n",
    "\n",
    "# score31>score32 so Income enters as the second attribute to the model.\n"
   ]
  },
  {
   "cell_type": "code",
   "execution_count": null,
   "metadata": {},
   "outputs": [],
   "source": [
    "print (score31, score32)"
   ]
  },
  {
   "cell_type": "code",
   "execution_count": null,
   "metadata": {},
   "outputs": [],
   "source": [
    "from sklearn.linear_model import Ridge\n",
    "import numpy as np\n",
    "y = credit['Balance'].values\n",
    "X = credit[['Income', 'Limit', 'Rating', 'Cards', 'Age', 'Education']].values\n",
    "# zero penalization gives the least squares\n",
    "rr = Ridge(alpha=0, normalize=True)\n",
    "rr.fit(X, y) "
   ]
  },
  {
   "cell_type": "code",
   "execution_count": null,
   "metadata": {},
   "outputs": [],
   "source": [
    "X_pred = np.array([15, 3000, 300, 2, 34, 16]).reshape(1,6)\n",
    "rr.predict(X_pred)\n"
   ]
  },
  {
   "cell_type": "code",
   "execution_count": null,
   "metadata": {},
   "outputs": [],
   "source": [
    "rr = Ridge(alpha=10, normalize=True)\n",
    "rr.fit(X, y) \n",
    "rr.predict(X_pred)\n"
   ]
  },
  {
   "cell_type": "markdown",
   "metadata": {
    "collapsed": true
   },
   "source": [
    "# Cross-validation\n",
    "Tuning a good penalization constant is like tuning finding the model size is linear regression. Let's use cross-validation."
   ]
  },
  {
   "cell_type": "code",
   "execution_count": null,
   "metadata": {},
   "outputs": [],
   "source": [
    "from sklearn.linear_model import RidgeCV\n",
    "alpha_values = np.linspace(0.0001, 0.01, num= 100)\n",
    "rrcv = RidgeCV(alphas=alpha_values, normalize = True, store_cv_values = True)\n",
    "rrcv.fit(X, y)\n"
   ]
  },
  {
   "cell_type": "markdown",
   "metadata": {},
   "source": [
    "# Visualize\n",
    "It is easy to track cross validation error versus the penalization parameter."
   ]
  },
  {
   "cell_type": "code",
   "execution_count": null,
   "metadata": {},
   "outputs": [],
   "source": [
    "cv_values = np.sum(rrcv.cv_values_, axis=0)"
   ]
  },
  {
   "cell_type": "code",
   "execution_count": null,
   "metadata": {},
   "outputs": [],
   "source": [
    "import matplotlib.pyplot as plt\n",
    "plt.plot(alpha_values, cv_values, 'or');"
   ]
  },
  {
   "cell_type": "code",
   "execution_count": null,
   "metadata": {},
   "outputs": [],
   "source": [
    "rrcv.predict(X_pred)\n"
   ]
  },
  {
   "cell_type": "markdown",
   "metadata": {},
   "source": [
    "# Lasso\n",
    "Fitting lasso is similar to Ridge. \n",
    "\n"
   ]
  },
  {
   "cell_type": "code",
   "execution_count": null,
   "metadata": {},
   "outputs": [],
   "source": [
    "from sklearn.linear_model import Lasso\n",
    "lr = Lasso(alpha = 0.1, normalize = True)\n",
    "lr.fit(X,y)\n",
    "lr.predict(X_pred)"
   ]
  },
  {
   "cell_type": "markdown",
   "metadata": {},
   "source": [
    "# Cross validation\n",
    "The penalization value needs to be estimated. Like the ridge regression we use crossvalidation to estimate it."
   ]
  },
  {
   "cell_type": "code",
   "execution_count": null,
   "metadata": {},
   "outputs": [],
   "source": [
    "from sklearn.linear_model import LassoCV\n",
    "\n",
    "lrcv = LassoCV(alphas = alpha_values, cv = 10, normalize = True)\n",
    "lrcv.fit(X, y)\n"
   ]
  },
  {
   "cell_type": "code",
   "execution_count": null,
   "metadata": {},
   "outputs": [],
   "source": [
    "lrcv.alpha_"
   ]
  },
  {
   "cell_type": "code",
   "execution_count": null,
   "metadata": {},
   "outputs": [],
   "source": [
    "lrcv.predict(X_pred)"
   ]
  },
  {
   "cell_type": "markdown",
   "metadata": {},
   "source": [
    "# LARS\n",
    "Least angle regression and selection is a computationally fast method for finding the solution path of coefficients for a varying penalization constant alpha"
   ]
  },
  {
   "cell_type": "code",
   "execution_count": null,
   "metadata": {},
   "outputs": [],
   "source": [
    "import matplotlib.pyplot as plt\n",
    "from sklearn.linear_model import lars_path\n",
    "alphas,_,coefs = lars_path(X, y, method='lasso', verbose=True)"
   ]
  },
  {
   "cell_type": "code",
   "execution_count": null,
   "metadata": {},
   "outputs": [],
   "source": [
    "alphas[1]"
   ]
  },
  {
   "cell_type": "code",
   "execution_count": null,
   "metadata": {},
   "outputs": [],
   "source": [
    "coefs[:,1]"
   ]
  }
 ],
 "metadata": {
  "anaconda-cloud": {},
  "kernelspec": {
   "display_name": "Python 3",
   "language": "python",
   "name": "python3"
  },
  "language_info": {
   "codemirror_mode": {
    "name": "ipython",
    "version": 3
   },
   "file_extension": ".py",
   "mimetype": "text/x-python",
   "name": "python",
   "nbconvert_exporter": "python",
   "pygments_lexer": "ipython3",
   "version": "3.6.5"
  }
 },
 "nbformat": 4,
 "nbformat_minor": 2
}
